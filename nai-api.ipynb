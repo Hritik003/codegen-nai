{
 "cells": [
  {
   "cell_type": "code",
   "execution_count": null,
   "metadata": {},
   "outputs": [],
   "source": [
    "\n",
    "import requests\n",
    "import os\n",
    "import yaml\n",
    "from dotenv import load_dotenv\n",
    "\n",
    "\n",
    "load_dotenv('./.env')\n",
    "nai_api_key = os.getenv('NAI_API_KEY')\n",
    "\n",
    "nai_url= 'https://ai.nutanix.com/api/v1/chat/completions'\n",
    "\n",
    "nai_api_key = nai_api_key.strip()\n",
    "\n",
    "\n",
    "\n",
    "def send_inference_request(system_prompt, user_prompt):\n",
    "    inference_input = {\n",
    "        \"model\": \"vllm-llama-3-1\",\n",
    "        \"messages\": [\n",
    "            {\n",
    "                \"role\": \"system\",\n",
    "                \"content\": system_prompt\n",
    "            },\n",
    "            {\n",
    "                \"role\": \"user\",\n",
    "                \"content\": user_prompt\n",
    "            }\n",
    "        ],\n",
    "        \"max_tokens\": 2048,\n",
    "        \"stream\": False\n",
    "    }\n",
    "\n",
    "    response = requests.post(nai_url, \n",
    "                            headers={\n",
    "                                    \"Authorization\": f\"Bearer {nai_api_key}\", \n",
    "                                    \"accept\": \"application/json\",\n",
    "                                    \"Content-Type\": \"application/json\"\n",
    "                                }, \n",
    "                            json=inference_input, \n",
    "                            verify=False)\n",
    "    return response.json() \n"
   ]
  },
  {
   "cell_type": "code",
   "execution_count": 5,
   "metadata": {},
   "outputs": [],
   "source": [
    "def find_go_files():\n",
    "    source_code_file = []\n",
    "    source_code_manual_unit_test_file = []\n",
    "    source_code_codegen_unit_test_file = []\n",
    "\n",
    "    for root, dirs, files in os.walk(\"./codegen-observation\"): \n",
    "        for file in files:\n",
    "            if file.endswith(\".go\") and not file.endswith(\"_test.go\") and not file.endswith(\"_codegen_test.go\"):\n",
    "                source_code_file.append(os.path.relpath(os.path.join(root, file)))\n",
    "            elif file.endswith(\"_test.go\") and not file.endswith(\"_codegen_test.go\"):\n",
    "                source_code_manual_unit_test_file.append(os.path.relpath(os.path.join(root, file)))\n",
    "            elif file.endswith(\"_codegen_test.go\"):\n",
    "                source_code_codegen_unit_test_file.append(os.path.relpath(os.path.join(root, file)))\n",
    "    \n",
    "    return source_code_file, source_code_manual_unit_test_file, source_code_codegen_unit_test_file\n",
    "\n",
    "source_code_file, source_code_manual_unit_test_file, source_code_codegen_unit_test_file = find_go_files()"
   ]
  },
  {
   "cell_type": "code",
   "execution_count": 8,
   "metadata": {},
   "outputs": [
    {
     "data": {
      "text/plain": [
       "['codegen-observation/piplani/api_key/api_key_test.go',\n",
       " 'codegen-observation/piplani/inference/inference_test.go',\n",
       " 'codegen-observation/hritik/cluster/cluster_test.go',\n",
       " 'codegen-observation/hritik/health/health_test.go',\n",
       " 'codegen-observation/hritik/catalog/catalog_test.go',\n",
       " 'codegen-observation/hritik/endpoint/endpoint_test.go',\n",
       " 'codegen-observation/hritik/client/client_test.go']"
      ]
     },
     "execution_count": 8,
     "metadata": {},
     "output_type": "execute_result"
    }
   ],
   "source": [
    "source_code_manual_unit_test_file"
   ]
  },
  {
   "cell_type": "code",
   "execution_count": 9,
   "metadata": {},
   "outputs": [
    {
     "name": "stderr",
     "output_type": "stream",
     "text": [
      "/Users/hritik.raj/codegen-nai/.venv/lib/python3.12/site-packages/urllib3/connectionpool.py:1099: InsecureRequestWarning: Unverified HTTPS request is being made to host 'ai.nutanix.com'. Adding certificate verification is strongly advised. See: https://urllib3.readthedocs.io/en/latest/advanced-usage.html#tls-warnings\n",
      "  warnings.warn(\n",
      "/Users/hritik.raj/codegen-nai/.venv/lib/python3.12/site-packages/urllib3/connectionpool.py:1099: InsecureRequestWarning: Unverified HTTPS request is being made to host 'ai.nutanix.com'. Adding certificate verification is strongly advised. See: https://urllib3.readthedocs.io/en/latest/advanced-usage.html#tls-warnings\n",
      "  warnings.warn(\n",
      "/Users/hritik.raj/codegen-nai/.venv/lib/python3.12/site-packages/urllib3/connectionpool.py:1099: InsecureRequestWarning: Unverified HTTPS request is being made to host 'ai.nutanix.com'. Adding certificate verification is strongly advised. See: https://urllib3.readthedocs.io/en/latest/advanced-usage.html#tls-warnings\n",
      "  warnings.warn(\n",
      "/Users/hritik.raj/codegen-nai/.venv/lib/python3.12/site-packages/urllib3/connectionpool.py:1099: InsecureRequestWarning: Unverified HTTPS request is being made to host 'ai.nutanix.com'. Adding certificate verification is strongly advised. See: https://urllib3.readthedocs.io/en/latest/advanced-usage.html#tls-warnings\n",
      "  warnings.warn(\n",
      "/Users/hritik.raj/codegen-nai/.venv/lib/python3.12/site-packages/urllib3/connectionpool.py:1099: InsecureRequestWarning: Unverified HTTPS request is being made to host 'ai.nutanix.com'. Adding certificate verification is strongly advised. See: https://urllib3.readthedocs.io/en/latest/advanced-usage.html#tls-warnings\n",
      "  warnings.warn(\n",
      "/Users/hritik.raj/codegen-nai/.venv/lib/python3.12/site-packages/urllib3/connectionpool.py:1099: InsecureRequestWarning: Unverified HTTPS request is being made to host 'ai.nutanix.com'. Adding certificate verification is strongly advised. See: https://urllib3.readthedocs.io/en/latest/advanced-usage.html#tls-warnings\n",
      "  warnings.warn(\n",
      "/Users/hritik.raj/codegen-nai/.venv/lib/python3.12/site-packages/urllib3/connectionpool.py:1099: InsecureRequestWarning: Unverified HTTPS request is being made to host 'ai.nutanix.com'. Adding certificate verification is strongly advised. See: https://urllib3.readthedocs.io/en/latest/advanced-usage.html#tls-warnings\n",
      "  warnings.warn(\n"
     ]
    }
   ],
   "source": [
    "with open('Prompts/prompt_01.yaml', 'r') as file:\n",
    "    prompts = yaml.safe_load(file)\n",
    "    \n",
    "for file, manual_ut, codegen_ut in zip(source_code_file, source_code_manual_unit_test_file, source_code_codegen_unit_test_file):\n",
    "    with open(file, 'r') as source_file:\n",
    "        go_source_code = source_file.read()\n",
    "\n",
    "    with open(manual_ut, 'r') as test_file:\n",
    "        go_unit_test_code = test_file.read()\n",
    "\n",
    "    with open(codegen_ut, 'r') as test_file:\n",
    "        go_unit_test_code = test_file.read()\n",
    "        \n",
    "    system_prompt = prompts.get('system_prommpt','')\n",
    "\n",
    "    user_prompt = prompts.get('user_prompt', '')\n",
    "    user_prompt = user_prompt.replace('<GO_SOURCE_CODE>', go_source_code).replace('<GO_MANUAL_UNIT_TEST_CODE>', manual_ut).replace('<GO_COPILOT_UNIT_TEST_CODE>',codegen_ut)\n",
    "    \n",
    "    response_from_model = send_inference_request(system_prompt=system_prompt, user_prompt=user_prompt)[\"choices\"][0][\"message\"][\"content\"]\n",
    "\n",
    "    output_dir = os.path.dirname(f'./Responses/{file[:-3]}_UTs_comparison.txt')\n",
    "    os.makedirs(output_dir, exist_ok=True)\n",
    "    with open(f'./Responses/{file[:-3]}_UTs_comparison.txt', 'w') as file:\n",
    "        file.write(response_from_model)\n"
   ]
  },
  {
   "cell_type": "markdown",
   "metadata": {},
   "source": [
    "## Summarizing the responses"
   ]
  },
  {
   "cell_type": "code",
   "execution_count": null,
   "metadata": {},
   "outputs": [],
   "source": []
  }
 ],
 "metadata": {
  "kernelspec": {
   "display_name": ".venv",
   "language": "python",
   "name": "python3"
  },
  "language_info": {
   "codemirror_mode": {
    "name": "ipython",
    "version": 3
   },
   "file_extension": ".py",
   "mimetype": "text/x-python",
   "name": "python",
   "nbconvert_exporter": "python",
   "pygments_lexer": "ipython3",
   "version": "3.12.6"
  }
 },
 "nbformat": 4,
 "nbformat_minor": 2
}
